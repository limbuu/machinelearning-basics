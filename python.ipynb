{
 "cells": [
  {
   "cell_type": "markdown",
   "metadata": {},
   "source": [
    "\n",
    "# Python For Beginners: \n",
    " This content covers python basics for the beginners as well as who has simple understanding of any programming language beforehand."
   ]
  },
  {
   "cell_type": "markdown",
   "metadata": {
    "collapsed": true
   },
   "source": [
    "## Priniting \n",
    "###### simple printing of different values"
   ]
  },
  {
   "cell_type": "code",
   "execution_count": 154,
   "metadata": {},
   "outputs": [
    {
     "name": "stdout",
     "output_type": "stream",
     "text": [
      "Hello World\n",
      "5\n",
      "True\n"
     ]
    }
   ],
   "source": [
    "print('Hello World')\n",
    "print(5)\n",
    "print(True)"
   ]
  },
  {
   "cell_type": "markdown",
   "metadata": {},
   "source": [
    " ###### datatypes of different values"
   ]
  },
  {
   "cell_type": "code",
   "execution_count": 155,
   "metadata": {},
   "outputs": [
    {
     "name": "stdout",
     "output_type": "stream",
     "text": [
      "<class 'str'>\n",
      "<class 'int'>\n",
      "<class 'bool'>\n"
     ]
    }
   ],
   "source": [
    "print(type('Hello World'))\n",
    "print(type(5))\n",
    "print(type(True))"
   ]
  },
  {
   "cell_type": "markdown",
   "metadata": {},
   "source": [
    "### Variables and Operations"
   ]
  },
  {
   "cell_type": "markdown",
   "metadata": {},
   "source": [
    "###### variables and datatypes\n"
   ]
  },
  {
   "cell_type": "code",
   "execution_count": 18,
   "metadata": {},
   "outputs": [
    {
     "name": "stdout",
     "output_type": "stream",
     "text": [
      "a : 5\n",
      "b : Bananase\n",
      "c : True\n",
      "d : 2.5\n",
      "<class 'int'>\n",
      "<class 'str'>\n",
      "<class 'bool'>\n",
      "<class 'float'>\n"
     ]
    }
   ],
   "source": [
    "a = 5\n",
    "b = 'Bananas'\n",
    "c = True\n",
    "d = 2.5\n",
    "#variables \n",
    "print('a :',a)\n",
    "print('b :',b)\n",
    "print('c :',c)\n",
    "print('d :',d) \n",
    "\n",
    "#datatypes of variables\n",
    "print(type(a))\n",
    "print(type(b))\n",
    "print(type(c))\n",
    "print(type(d))"
   ]
  },
  {
   "cell_type": "markdown",
   "metadata": {},
   "source": [
    "###### operations on variables"
   ]
  },
  {
   "cell_type": "code",
   "execution_count": 20,
   "metadata": {},
   "outputs": [
    {
     "name": "stdout",
     "output_type": "stream",
     "text": [
      "7.5\n",
      "<class 'float'>\n"
     ]
    }
   ],
   "source": [
    "e = d + 5\n",
    "print(e)\n",
    "print(type(e))"
   ]
  },
  {
   "cell_type": "code",
   "execution_count": 49,
   "metadata": {},
   "outputs": [
    {
     "name": "stdout",
     "output_type": "stream",
     "text": [
      "11Bananase\n",
      "<class 'str'>\n"
     ]
    }
   ],
   "source": [
    "#print(a+b)\n",
    "f = str(a)\n",
    "print(f+b)\n",
    "print(type(f+b))"
   ]
  },
  {
   "cell_type": "code",
   "execution_count": 57,
   "metadata": {},
   "outputs": [
    {
     "name": "stdout",
     "output_type": "stream",
     "text": [
      "0\n",
      "<class 'int'>\n",
      "1\n",
      "<class 'int'>\n",
      "5.0\n",
      "<class 'float'>\n",
      "7.5\n",
      "<class 'float'>\n"
     ]
    }
   ],
   "source": [
    "print(10%2)\n",
    "print(type(10%2))\n",
    "print(15%2)\n",
    "print(type(15%2))\n",
    "print(10/2)\n",
    "print(type(10/2))\n",
    "print(15/2)\n",
    "print(type(15/2))"
   ]
  },
  {
   "cell_type": "code",
   "execution_count": 30,
   "metadata": {},
   "outputs": [
    {
     "name": "stdout",
     "output_type": "stream",
     "text": [
      "True\n",
      "False\n",
      "False\n",
      "True\n"
     ]
    }
   ],
   "source": [
    "print(a>d)\n",
    "print(a<d)\n",
    "print(a==d)\n",
    "print(10<=10)"
   ]
  },
  {
   "cell_type": "markdown",
   "metadata": {},
   "source": [
    "##### Dynamic References"
   ]
  },
  {
   "cell_type": "code",
   "execution_count": 32,
   "metadata": {},
   "outputs": [
    {
     "name": "stdout",
     "output_type": "stream",
     "text": [
      "a is 5 , b is Bananase , c is True and d is 2.5 \n"
     ]
    }
   ],
   "source": [
    "print('a is {} , b is {} , c is {} and d is {} '.format(a,b,c,d))"
   ]
  },
  {
   "cell_type": "markdown",
   "metadata": {},
   "source": [
    "### Flow Control"
   ]
  },
  {
   "cell_type": "markdown",
   "metadata": {},
   "source": [
    "##### Conditions \n",
    "if, if-else, nested if-else statements"
   ]
  },
  {
   "cell_type": "code",
   "execution_count": 34,
   "metadata": {},
   "outputs": [
    {
     "name": "stdout",
     "output_type": "stream",
     "text": [
      "a is greater than d\n"
     ]
    }
   ],
   "source": [
    "# Identation, no braces \n",
    "if a==d:\n",
    "    print('a is equal to d')\n",
    "elif a > d:\n",
    "    print('a is greater than d')\n",
    "else:\n",
    "    print('d is greater than a')"
   ]
  },
  {
   "cell_type": "markdown",
   "metadata": {},
   "source": [
    "#### Loops\n",
    "while, do-while, for loops"
   ]
  },
  {
   "cell_type": "code",
   "execution_count": 36,
   "metadata": {},
   "outputs": [
    {
     "name": "stdout",
     "output_type": "stream",
     "text": [
      "3.5\n",
      "4.5\n",
      "5.5\n",
      "6.5\n",
      "7.5\n",
      "8.5\n",
      "9.5\n",
      "10.5\n"
     ]
    }
   ],
   "source": [
    "#while\n",
    "while d!=10.5: \n",
    "    d+=1\n",
    "    print(d)"
   ]
  },
  {
   "cell_type": "code",
   "execution_count": 38,
   "metadata": {},
   "outputs": [
    {
     "name": "stdout",
     "output_type": "stream",
     "text": [
      "5\n",
      "6\n",
      "7\n",
      "8\n",
      "9\n",
      "10\n"
     ]
    }
   ],
   "source": [
    "#emulating do-while in python\n",
    "while True:\n",
    "    print(a)\n",
    "    a +=  1\n",
    "    if(a > 10):\n",
    "        break"
   ]
  },
  {
   "cell_type": "code",
   "execution_count": 41,
   "metadata": {},
   "outputs": [
    {
     "name": "stdout",
     "output_type": "stream",
     "text": [
      "0\n",
      "1\n",
      "2\n",
      "3\n",
      "4\n"
     ]
    }
   ],
   "source": [
    "#for loops\n",
    "for i in range(5):\n",
    "    print(i)"
   ]
  },
  {
   "cell_type": "code",
   "execution_count": 43,
   "metadata": {},
   "outputs": [
    {
     "name": "stdout",
     "output_type": "stream",
     "text": [
      "0\n",
      "2\n",
      "4\n",
      "6\n",
      "8\n"
     ]
    }
   ],
   "source": [
    "#for loops with interval\n",
    "for i in range(0,10,2):\n",
    "    print(i)"
   ]
  },
  {
   "cell_type": "code",
   "execution_count": 46,
   "metadata": {},
   "outputs": [
    {
     "name": "stdout",
     "output_type": "stream",
     "text": [
      "5000\n"
     ]
    }
   ],
   "source": [
    "#implemetation\n",
    "total = 0\n",
    "for i in range(100):\n",
    "    total+=50\n",
    "print(total) "
   ]
  },
  {
   "cell_type": "markdown",
   "metadata": {},
   "source": [
    "### Functions"
   ]
  },
  {
   "cell_type": "code",
   "execution_count": 7,
   "metadata": {},
   "outputs": [
    {
     "name": "stdout",
     "output_type": "stream",
     "text": [
      "5\n"
     ]
    }
   ],
   "source": [
    "def add_numbers(a,b):\n",
    "    c = a+b\n",
    "    print(c)\n",
    "    return \n",
    "add_numbers(2,3)\n",
    "    "
   ]
  },
  {
   "cell_type": "code",
   "execution_count": 3,
   "metadata": {},
   "outputs": [
    {
     "data": {
      "text/plain": [
       "5"
      ]
     },
     "execution_count": 3,
     "metadata": {},
     "output_type": "execute_result"
    }
   ],
   "source": [
    "def add_numbers(a,b):\n",
    "    c = a+b\n",
    "    return c\n",
    "sum = add_numbers(2,3)\n",
    "sum"
   ]
  },
  {
   "cell_type": "markdown",
   "metadata": {},
   "source": [
    "### Immutable and Mutable dataTypes"
   ]
  },
  {
   "cell_type": "markdown",
   "metadata": {},
   "source": [
    "List, tuples, set and dict"
   ]
  },
  {
   "cell_type": "markdown",
   "metadata": {},
   "source": [
    "##### List(Mutable Types)"
   ]
  },
  {
   "cell_type": "code",
   "execution_count": 88,
   "metadata": {},
   "outputs": [
    {
     "name": "stdout",
     "output_type": "stream",
     "text": [
      "['Kathmandu', 'Hetuda', 'Pokhara', 'Biratnagar']\n",
      "<class 'list'>\n"
     ]
    }
   ],
   "source": [
    "cities = ['Kathmandu', 'Hetuda','Pokhara','Biratnagar']\n",
    "print(cities)\n",
    "print(type(cities))"
   ]
  },
  {
   "cell_type": "code",
   "execution_count": 89,
   "metadata": {},
   "outputs": [
    {
     "data": {
      "text/plain": [
       "'Kathmandu'"
      ]
     },
     "execution_count": 89,
     "metadata": {},
     "output_type": "execute_result"
    }
   ],
   "source": [
    "#indexing from first\n",
    "cities[0]"
   ]
  },
  {
   "cell_type": "code",
   "execution_count": 90,
   "metadata": {},
   "outputs": [
    {
     "data": {
      "text/plain": [
       "'Biratnagar'"
      ]
     },
     "execution_count": 90,
     "metadata": {},
     "output_type": "execute_result"
    }
   ],
   "source": [
    "#indexing from last\n",
    "cities[-1]"
   ]
  },
  {
   "cell_type": "code",
   "execution_count": 91,
   "metadata": {},
   "outputs": [
    {
     "data": {
      "text/plain": [
       "['Kathmandu', 'Hetuda', 'Pokhara', 'Biratnagar', 'new city']"
      ]
     },
     "execution_count": 91,
     "metadata": {},
     "output_type": "execute_result"
    }
   ],
   "source": [
    "#add value in existing list\n",
    "cities.append('new city') \n",
    "cities"
   ]
  },
  {
   "cell_type": "code",
   "execution_count": 92,
   "metadata": {},
   "outputs": [
    {
     "name": "stdout",
     "output_type": "stream",
     "text": [
      "['Belbari', 'Damak', 'Birtamod', 'Itahari']\n",
      "['Kathmandu', 'Hetuda', 'Pokhara', 'Biratnagar', 'new city', 'Belbari', 'Damak', 'Birtamod', 'Itahari']\n",
      "['Kathmandu', 'Hetuda', 'Pokhara', 'Biratnagar', 'new city', 'Belbari', 'Damak', 'Birtamod', 'Itahari', 'Kathmandu', 'Hetuda', 'Pokhara', 'Biratnagar', 'new city', 'Belbari', 'Damak', 'Birtamod', 'Itahari']\n"
     ]
    }
   ],
   "source": [
    "new_cities = ['Belbari','Damak','Birtamod','Itahari']\n",
    "print(new_cities)\n",
    "total_cities = cities + new_cities\n",
    "multiplied_cities = total_cities*2\n",
    "print(total_cities)\n",
    "print(multiplied_cities)"
   ]
  },
  {
   "cell_type": "markdown",
   "metadata": {},
   "source": [
    "#### Tuples(Immutable Types)"
   ]
  },
  {
   "cell_type": "code",
   "execution_count": 93,
   "metadata": {},
   "outputs": [
    {
     "data": {
      "text/plain": [
       "{'banana', 'grape', 'pineapple'}"
      ]
     },
     "execution_count": 93,
     "metadata": {},
     "output_type": "execute_result"
    }
   ],
   "source": [
    "fruits = {'banana','grape','pineapple'}\n",
    "fruits"
   ]
  },
  {
   "cell_type": "code",
   "execution_count": 94,
   "metadata": {},
   "outputs": [
    {
     "name": "stdout",
     "output_type": "stream",
     "text": [
      "{'papaya', 'apple'}\n"
     ]
    }
   ],
   "source": [
    "new_fruits = {'apple','papaya'}\n",
    "print(new_fruits)"
   ]
  },
  {
   "cell_type": "code",
   "execution_count": 95,
   "metadata": {
    "collapsed": true
   },
   "outputs": [],
   "source": [
    "#fruits.append('apple')\n",
    "# print(fruits+new_fruits)\n",
    "# cannot add \n"
   ]
  },
  {
   "cell_type": "code",
   "execution_count": 97,
   "metadata": {},
   "outputs": [
    {
     "name": "stdout",
     "output_type": "stream",
     "text": [
      "['hello', 'yello', 'pello']\n",
      "('hello', 'yello', 'pello')\n"
     ]
    }
   ],
   "source": [
    "#change list to tuple\n",
    "list_items = ['hello','yello','pello']\n",
    "tuple_items = tuple(list_items)\n",
    "print(list_items)\n",
    "print(tuple_items)"
   ]
  },
  {
   "cell_type": "markdown",
   "metadata": {},
   "source": [
    "#### Set (Immutable Type)"
   ]
  },
  {
   "cell_type": "code",
   "execution_count": 105,
   "metadata": {},
   "outputs": [
    {
     "name": "stdout",
     "output_type": "stream",
     "text": [
      "['ram', 'hari', 'sita']\n",
      "['ram', 'hari', 'sita', 'gita']\n"
     ]
    }
   ],
   "source": [
    "names = ['ram','hari','sita']\n",
    "print(names)\n",
    "names.append('gita')\n",
    "print(names)"
   ]
  },
  {
   "cell_type": "code",
   "execution_count": 102,
   "metadata": {
    "collapsed": true
   },
   "outputs": [],
   "source": [
    "#set_names.append('gita')\n",
    "#cannot add"
   ]
  },
  {
   "cell_type": "code",
   "execution_count": 106,
   "metadata": {},
   "outputs": [
    {
     "data": {
      "text/plain": [
       "{'gita', 'hari', 'ram', 'sita'}"
      ]
     },
     "execution_count": 106,
     "metadata": {},
     "output_type": "execute_result"
    }
   ],
   "source": [
    "\n",
    "set_names = set(names)\n",
    "set_names"
   ]
  },
  {
   "cell_type": "markdown",
   "metadata": {},
   "source": [
    "#### Dictonary (Mutable Type)\n",
    "similar as map with key, value pairs in java"
   ]
  },
  {
   "cell_type": "code",
   "execution_count": 107,
   "metadata": {},
   "outputs": [
    {
     "data": {
      "text/plain": [
       "{1: 'jackey', 2: 'tony', 3: 'banje'}"
      ]
     },
     "execution_count": 107,
     "metadata": {},
     "output_type": "execute_result"
    }
   ],
   "source": [
    "dog = {1:'jackey', 2:'tony',3:'banje'}\n",
    "dog"
   ]
  },
  {
   "cell_type": "code",
   "execution_count": 189,
   "metadata": {},
   "outputs": [
    {
     "data": {
      "text/plain": [
       "{'color': 'white', 'name': 'honey', 'size': 'fat'}"
      ]
     },
     "execution_count": 189,
     "metadata": {},
     "output_type": "execute_result"
    }
   ],
   "source": [
    "cat = {'name':'honey','color':'white','size':'fat'}\n",
    "cat"
   ]
  },
  {
   "cell_type": "code",
   "execution_count": 190,
   "metadata": {},
   "outputs": [
    {
     "name": "stdout",
     "output_type": "stream",
     "text": [
      "dict_keys([1, 2, 3])\n",
      "dict_values(['jackey', 'tony', 'banje'])\n",
      "dict_items([(1, 'jackey'), (2, 'tony'), (3, 'banje')])\n",
      "{1: 'jackey', 2: 'tony', 3: 'banje'}\n"
     ]
    }
   ],
   "source": [
    "print(dog.keys())\n",
    "print(dog.values())\n",
    "print(dog.items())\n",
    "print(dog)"
   ]
  },
  {
   "cell_type": "code",
   "execution_count": 191,
   "metadata": {},
   "outputs": [
    {
     "data": {
      "text/plain": [
       "False"
      ]
     },
     "execution_count": 191,
     "metadata": {},
     "output_type": "execute_result"
    }
   ],
   "source": [
    "dog==cat"
   ]
  },
  {
   "cell_type": "code",
   "execution_count": 192,
   "metadata": {},
   "outputs": [
    {
     "name": "stdout",
     "output_type": "stream",
     "text": [
      "key :1 value :jackey\n",
      "key :2 value :tony\n",
      "key :3 value :banje\n"
     ]
    }
   ],
   "source": [
    "for k,v  in dog.items():\n",
    "    print('key :'+ str(k) +' value :'+ str(v))\n",
    "    #print(k) print(v) is also right\n",
    "   "
   ]
  },
  {
   "cell_type": "code",
   "execution_count": 195,
   "metadata": {},
   "outputs": [
    {
     "name": "stdout",
     "output_type": "stream",
     "text": [
      "{'name': 'honey', 'color': 'white', 'size': 'fat', 'weight': 'notaalu'}\n",
      "{'name': 'honey', 'color': 'white', 'size': 'fat', 'weight': 'aalu'}\n",
      "{'name': 'honey', 'color': 'white', 'size': 'fat', 'weight': 'notaalu'}\n",
      "{'name': 'honey', 'color': 'white', 'size': 'fat', 'weight': 'notaalu', 'legs': 'four'}\n"
     ]
    }
   ],
   "source": [
    "#add values\n",
    "print(cat)\n",
    "\n",
    "#update values\n",
    "cat.update({'weight':'aalu'})\n",
    "print(cat)\n",
    "cat.update({'weight':'notaalu'})\n",
    "print(cat)\n",
    "\n",
    "#alternative\n",
    "cat['legs']='four'\n",
    "print(cat)"
   ]
  },
  {
   "cell_type": "markdown",
   "metadata": {},
   "source": [
    "#### Slicing"
   ]
  },
  {
   "cell_type": "code",
   "execution_count": 167,
   "metadata": {},
   "outputs": [
    {
     "name": "stdout",
     "output_type": "stream",
     "text": [
      "['Kathmandu', 'Hetuda', 'Pokhara', 'Biratnagar', 'new city']\n",
      "('Kathmandu', 'Hetuda', 'Pokhara', 'Biratnagar', 'new city')\n",
      "{'new city', 'Biratnagar', 'Hetuda', 'Pokhara', 'Kathmandu'}\n",
      "{1: 'jackey', 2: 'tony', 3: 'banje'}\n"
     ]
    }
   ],
   "source": [
    "list_cities = cities\n",
    "tuple_cities = tuple(cities)\n",
    "set_cities = set(cities) #cannot be sliced\n",
    "dict_items=dog #dictonary cannot be sliced\n",
    "\n",
    "print(list_cities)\n",
    "print(tuple_cities)\n",
    "print(set_cities)\n",
    "print(dog)"
   ]
  },
  {
   "cell_type": "code",
   "execution_count": 168,
   "metadata": {},
   "outputs": [
    {
     "name": "stdout",
     "output_type": "stream",
     "text": [
      "['Kathmandu', 'Hetuda', 'Pokhara', 'Biratnagar', 'new city']\n",
      "('Kathmandu', 'Hetuda', 'Pokhara', 'Biratnagar', 'new city')\n"
     ]
    }
   ],
   "source": [
    "#include all\n",
    "print(list_cities[::])\n",
    "print(tuple_cities[::])\n"
   ]
  },
  {
   "cell_type": "code",
   "execution_count": 169,
   "metadata": {},
   "outputs": [
    {
     "name": "stdout",
     "output_type": "stream",
     "text": [
      "['Kathmandu', 'Hetuda', 'Pokhara', 'Biratnagar']\n",
      "('Kathmandu', 'Hetuda', 'Pokhara', 'Biratnagar')\n"
     ]
    }
   ],
   "source": [
    "# include from 0 to 4th index,including 0 index item but excluding the 4th index item \n",
    "print(list_cities[0:4])\n",
    "print(tuple_cities[0:4])"
   ]
  },
  {
   "cell_type": "code",
   "execution_count": 182,
   "metadata": {},
   "outputs": [
    {
     "name": "stdout",
     "output_type": "stream",
     "text": [
      "['Kathmandu', 'Hetuda', 'Pokhara', 'Biratnagar', 'new city']\n",
      "('Kathmandu', 'Hetuda', 'Pokhara', 'Biratnagar', 'new city')\n"
     ]
    }
   ],
   "source": [
    "print(list_cities[0::])\n",
    "print(tuple_cities[0::])"
   ]
  },
  {
   "cell_type": "code",
   "execution_count": 149,
   "metadata": {},
   "outputs": [
    {
     "data": {
      "text/plain": [
       "['Hetuda', 'Pokhara', 'Biratnagar', 'new city']"
      ]
     },
     "execution_count": 149,
     "metadata": {},
     "output_type": "execute_result"
    }
   ],
   "source": [
    "list_cities[1:5]"
   ]
  },
  {
   "cell_type": "code",
   "execution_count": 153,
   "metadata": {},
   "outputs": [
    {
     "data": {
      "text/plain": [
       "['Kathmandu', 'Pokhara']"
      ]
     },
     "execution_count": 153,
     "metadata": {},
     "output_type": "execute_result"
    }
   ],
   "source": [
    "#include element with given interval 2\n",
    "list_cities[0:4:2]"
   ]
  },
  {
   "cell_type": "code",
   "execution_count": 156,
   "metadata": {},
   "outputs": [
    {
     "data": {
      "text/plain": [
       "('Kathmandu', 'Hetuda', 'Pokhara')"
      ]
     },
     "execution_count": 156,
     "metadata": {},
     "output_type": "execute_result"
    }
   ],
   "source": [
    "tuple_cities[0:3]"
   ]
  },
  {
   "cell_type": "code",
   "execution_count": 183,
   "metadata": {},
   "outputs": [
    {
     "name": "stdout",
     "output_type": "stream",
     "text": [
      "['new city', 'Biratnagar', 'Pokhara', 'Hetuda', 'Kathmandu']\n"
     ]
    }
   ],
   "source": [
    "# if we want our list/arrays/tuples to be backwards \n",
    "print(list_cities[::-1])\n"
   ]
  },
  {
   "cell_type": "markdown",
   "metadata": {
    "collapsed": true
   },
   "source": [
    "## Others"
   ]
  },
  {
   "cell_type": "code",
   "execution_count": 6,
   "metadata": {},
   "outputs": [
    {
     "name": "stdout",
     "output_type": "stream",
     "text": [
      "{'cherry', 'apple', 'banana'}\n",
      "('apple', 'banana', 'cherry', 'cherry')\n",
      "['apple', 'banana', 'cherry', 'cherry']\n"
     ]
    }
   ],
   "source": [
    "thisset = set((\"apple\", \"banana\", \"cherry\",\"cherry\"))\n",
    "print(thisset)\n",
    "\n",
    "thistuple = tuple((\"apple\", \"banana\", \"cherry\",\"cherry\"))\n",
    "print(thistuple)\n",
    "\n",
    "thislist = list((\"apple\", \"banana\", \"cherry\",\"cherry\"))\n",
    "print(thislist)"
   ]
  },
  {
   "cell_type": "code",
   "execution_count": 7,
   "metadata": {},
   "outputs": [
    {
     "name": "stdout",
     "output_type": "stream",
     "text": [
      "{'apple', 'banana'}\n"
     ]
    }
   ],
   "source": [
    "thisset = {\"apple\", \"banana\"}\n",
    "print(thisset)"
   ]
  },
  {
   "cell_type": "code",
   "execution_count": 10,
   "metadata": {},
   "outputs": [
    {
     "name": "stdout",
     "output_type": "stream",
     "text": [
      "('abc', 'xyz', '123')\n"
     ]
    }
   ],
   "source": [
    "thistuple =('abc','xyz','123')\n",
    "print(thistuple)\n"
   ]
  },
  {
   "cell_type": "code",
   "execution_count": 14,
   "metadata": {},
   "outputs": [
    {
     "name": "stdout",
     "output_type": "stream",
     "text": [
      "{'cherry', 'apple', 'damson', 'banana'}\n",
      "{'cherry', 'damson', 'banana'}\n",
      "3\n"
     ]
    }
   ],
   "source": [
    "#set unordered and unindexed\n",
    "thisset = set((\"apple\", \"banana\", \"cherry\"))\n",
    "thisset.add(\"damson\")\n",
    "print(thisset)\n",
    "thisset.remove(\"apple\")\n",
    "print(thisset)\n",
    "print(len(thisset))"
   ]
  },
  {
   "cell_type": "code",
   "execution_count": 19,
   "metadata": {},
   "outputs": [
    {
     "name": "stdout",
     "output_type": "stream",
     "text": [
      "{'apple': 'green', 'banana': 'yellow', 'canberry': 'blue'}\n",
      "{'apple': 'green', 'banana': 'yellow', 'canberry': 'blue', 'papaya': 'red'}\n",
      "{'apple': 'green', 'banana': 'yellow', 'canberry': 'blue'}\n",
      "3\n"
     ]
    }
   ],
   "source": [
    "\n",
    "thisdict = dict(apple='green',banana='yellow',canberry='blue')\n",
    "print(thisdict)\n",
    "thisdict['papaya']='red'\n",
    "print(thisdict)\n",
    "del(thisdict['papaya'])\n",
    "print(thisdict)\n",
    "print(len(thisdict))"
   ]
  },
  {
   "cell_type": "code",
   "execution_count": 32,
   "metadata": {},
   "outputs": [
    {
     "name": "stdout",
     "output_type": "stream",
     "text": [
      "apple\n"
     ]
    }
   ],
   "source": [
    "fruits = ['apple','banana','papaya']\n",
    "for i in fruits:\n",
    "    if i=='banana':\n",
    "        break\n",
    "    print(i)"
   ]
  },
  {
   "cell_type": "code",
   "execution_count": null,
   "metadata": {
    "collapsed": true
   },
   "outputs": [],
   "source": []
  }
 ],
 "metadata": {
  "kernelspec": {
   "display_name": "Python 3",
   "language": "python",
   "name": "python3"
  },
  "language_info": {
   "codemirror_mode": {
    "name": "ipython",
    "version": 3
   },
   "file_extension": ".py",
   "mimetype": "text/x-python",
   "name": "python",
   "nbconvert_exporter": "python",
   "pygments_lexer": "ipython3",
   "version": "3.6.3"
  },
  "widgets": {
   "application/vnd.jupyter.widget-state+json": {
    "state": {},
    "version_major": 2,
    "version_minor": 0
   }
  }
 },
 "nbformat": 4,
 "nbformat_minor": 2
}
